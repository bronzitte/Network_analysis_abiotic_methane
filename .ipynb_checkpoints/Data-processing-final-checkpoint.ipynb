{
 "cells": [
  {
   "cell_type": "markdown",
   "metadata": {},
   "source": [
    "## Load libraries\n",
    "- Python 3.7.3\n",
    "- pandas 0.24.2\n",
    "- numpy 1.16.3\n",
    "- seaborn 0.9.0\n",
    "- sklearn (scikit-learn) 0.21.2"
   ]
  },
  {
   "cell_type": "code",
   "execution_count": 1,
   "metadata": {},
   "outputs": [],
   "source": [
    "import pandas as pd\n",
    "import numpy as np\n",
    "import seaborn as sns\n",
    "import matplotlib.pyplot as plt\n",
    "\n",
    "from sklearn.metrics.pairwise import pairwise_kernels"
   ]
  },
  {
   "cell_type": "markdown",
   "metadata": {},
   "source": [
    "## Read in the data file\n",
    "The dataset used in this study was compiled from the final full dataset from the data paper "
   ]
  },
  {
   "cell_type": "code",
   "execution_count": 2,
   "metadata": {
    "scrolled": false,
    "slideshow": {
     "slide_type": "-"
    }
   },
   "outputs": [],
   "source": [
    "df_origin = pd.read_excel('./datasets/dataset.xlsx')\n",
    "df_origin.head()\n",
    "df = df_origin.copy()"
   ]
  },
  {
   "cell_type": "code",
   "execution_count": 3,
   "metadata": {},
   "outputs": [],
   "source": [
    "df = df.drop(index=df.index[547:562]) # Remove the extremely high H2 (Dufaud et al 2009 - we are doubtful with \n",
    "                                      # results from this paper. Feel free to include them in your study)\n",
    "df = df.drop(index=df.index[297:319]) # Remove no initial/final C (Lafay et al 2012 - only analyzed H2)\n",
    "df = df.reset_index(drop=True)"
   ]
  },
  {
   "cell_type": "markdown",
   "metadata": {},
   "source": [
    "## Delete duplicated measurements in each experiment\n",
    "Check main text body for difference between measurement and experiment.\n",
    "Before normalizing the dataset, we want to keep a copy of experiments \n",
    "(removed duplicated measurements) with real values - \"reduced-with-real-values.xlsx\""
   ]
  },
  {
   "cell_type": "code",
   "execution_count": 4,
   "metadata": {},
   "outputs": [],
   "source": [
    "df2 = pd.DataFrame(columns=df.columns)\n",
    "for idx in range(df.shape[0] - 1):\n",
    "    flg = False\n",
    "    if df['No_of_experiments'][idx] != df['No_of_experiments'][idx+1]:\n",
    "       flg = True\n",
    "    else:\n",
    "        if df['Duration_hr'][idx] > df['Duration_hr'][idx+1]:\n",
    "            flg = True\n",
    "            \n",
    "    if flg:    \n",
    "        df2 = df2.append(df.iloc[idx,:],ignore_index=True)       \n",
    "\n",
    "df2 = df2.append(df.iloc[-1,:],ignore_index=True)"
   ]
  },
  {
   "cell_type": "code",
   "execution_count": 5,
   "metadata": {},
   "outputs": [],
   "source": [
    "df2 = df2.drop(columns=['Number of dataline', 'Internal database article number'])"
   ]
  },
  {
   "cell_type": "code",
   "execution_count": 6,
   "metadata": {},
   "outputs": [],
   "source": [
    "df2 = df2.fillna(-1)\n",
    "df2.to_excel('./datasets/Reduced_with-real-values.xlsx')"
   ]
  },
  {
   "cell_type": "markdown",
   "metadata": {},
   "source": [
    "## Normalize the dataframe\n",
    "To reduce biases from every feature (numerical features)"
   ]
  },
  {
   "cell_type": "code",
   "execution_count": 7,
   "metadata": {},
   "outputs": [],
   "source": [
    "cols = ['Temperature_C', 'Pressure_MPa', 'Duration_hr','Water_Rock', 'Grain_size_min','Grain_size_max', \n",
    "        'Initial_pH', 'Final_pH', 'Total_initial_C_mM',\n",
    "        'H2_mM', 'CH4_mM', 'Other_organics_mM','Total_final_organic_C_mM']"
   ]
  },
  {
   "cell_type": "code",
   "execution_count": 8,
   "metadata": {
    "scrolled": false
   },
   "outputs": [],
   "source": [
    "normdf = df.copy()\n",
    "\n",
    "# Get a normalized dataframe\n",
    "# Normalize the dataframe into 0-1 range\n",
    "for col in cols:\n",
    "    col_data = df[col].astype(float)\n",
    "    normdf[col] = (col_data - np.min(col_data))/(np.max(col_data)- np.min(col_data))\n",
    "#     print(col, np.min(col_data), np.max(col_data))"
   ]
  },
  {
   "cell_type": "code",
   "execution_count": 9,
   "metadata": {},
   "outputs": [],
   "source": [
    "drop_cols = list(df_origin.columns[:2])\n",
    "\n",
    "normdf = normdf.drop(columns=drop_cols)\n",
    "# len(drop_cols)"
   ]
  },
  {
   "cell_type": "markdown",
   "metadata": {},
   "source": [
    "## Filling everything with -1\n",
    "To replace missing values for further analysis"
   ]
  },
  {
   "cell_type": "code",
   "execution_count": 10,
   "metadata": {},
   "outputs": [],
   "source": [
    "normdf = normdf.fillna(-1)\n",
    "normdf.to_excel('./datasets/normalized_version.xlsx')"
   ]
  },
  {
   "cell_type": "markdown",
   "metadata": {},
   "source": [
    "## Delete duplicated measurements in one single experiment for the normalized dataset"
   ]
  },
  {
   "cell_type": "code",
   "execution_count": 11,
   "metadata": {},
   "outputs": [],
   "source": [
    "normdf2 = pd.DataFrame(columns=normdf.columns)\n",
    "for idx in range(df.shape[0] - 1):\n",
    "    flg = False\n",
    "    if normdf['No_of_experiments'][idx] != normdf['No_of_experiments'][idx+1]:\n",
    "        flg = True\n",
    "    else:\n",
    "        if normdf['Duration_hr'][idx] > normdf['Duration_hr'][idx+1]:\n",
    "            flg = True\n",
    "            \n",
    "    if flg:    \n",
    "        normdf2 = normdf2.append(normdf.iloc[idx,:],ignore_index=True)       \n",
    "\n",
    "normdf2 = normdf2.append(normdf.iloc[-1,:],ignore_index=True)"
   ]
  },
  {
   "cell_type": "code",
   "execution_count": 12,
   "metadata": {},
   "outputs": [],
   "source": [
    "normdf2.to_excel('./datasets/Reduced_version-normalized.xlsx')"
   ]
  },
  {
   "cell_type": "markdown",
   "metadata": {},
   "source": [
    "## Calculate cosine similarity matrix and save the file"
   ]
  },
  {
   "cell_type": "code",
   "execution_count": 13,
   "metadata": {},
   "outputs": [],
   "source": [
    "normdf2 = normdf2.drop(columns=['Duration_hr', 'Authors', 'No_of_experiments'])\n",
    "res = pd.DataFrame(pairwise_kernels(normdf2, normdf2, metric='cosine'))"
   ]
  },
  {
   "cell_type": "code",
   "execution_count": 14,
   "metadata": {},
   "outputs": [],
   "source": [
    "res.to_excel('./datasets/Cos-reduced-normalized.xlsx')"
   ]
  },
  {
   "cell_type": "code",
   "execution_count": null,
   "metadata": {},
   "outputs": [],
   "source": []
  },
  {
   "cell_type": "code",
   "execution_count": null,
   "metadata": {},
   "outputs": [],
   "source": []
  }
 ],
 "metadata": {
  "kernelspec": {
   "display_name": "Python 3",
   "language": "python",
   "name": "python3"
  },
  "language_info": {
   "codemirror_mode": {
    "name": "ipython",
    "version": 3
   },
   "file_extension": ".py",
   "mimetype": "text/x-python",
   "name": "python",
   "nbconvert_exporter": "python",
   "pygments_lexer": "ipython3",
   "version": "3.7.3"
  },
  "livereveal": {
   "Height": 1440,
   "Width": 900,
   "autolaunch": false,
   "backimage": "http://res.cloudinary.com/dqbkvn32w/image/upload/v1530476378/Webinar_2018_summer/Picture3_ou7rpe.png",
   "footer": "",
   "header": "",
   "scroll": true
  },
  "varInspector": {
   "cols": {
    "lenName": 16,
    "lenType": 16,
    "lenVar": 40
   },
   "kernels_config": {
    "python": {
     "delete_cmd_postfix": "",
     "delete_cmd_prefix": "del ",
     "library": "var_list.py",
     "varRefreshCmd": "print(var_dic_list())"
    },
    "r": {
     "delete_cmd_postfix": ") ",
     "delete_cmd_prefix": "rm(",
     "library": "var_list.r",
     "varRefreshCmd": "cat(var_dic_list()) "
    }
   },
   "types_to_exclude": [
    "module",
    "function",
    "builtin_function_or_method",
    "instance",
    "_Feature"
   ],
   "window_display": false
  }
 },
 "nbformat": 4,
 "nbformat_minor": 2
}
